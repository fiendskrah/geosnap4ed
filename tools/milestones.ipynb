{
 "cells": [
  {
   "cell_type": "code",
   "execution_count": 1,
   "metadata": {},
   "outputs": [],
   "source": [
    "import os\n",
    "import json\n",
    "import urllib\n",
    "import re\n",
    "from urllib.request import urlopen\n",
    "from datetime import datetime, timedelta\n",
    "import requests\n",
    "\n",
    "PYSALVER = '2.3.0'\n",
    "\n",
    "USER = \"sjsrey\"\n",
    "\n",
    "ISO8601 = \"%Y-%m-%dT%H:%M:%SZ\"\n",
    "PER_PAGE = 100\n",
    "element_pat = re.compile(r'<(.+?)>')\n",
    "rel_pat = re.compile(r'rel=[\\'\"](\\w+)[\\'\"]')\n",
    "\n",
    "\n",
    "\n",
    "# get github token:\n",
    "with open('token', 'r') as token_file:\n",
    "    token = token_file.read().strip()\n",
    "\n",
    "gh_session = requests.Session()\n",
    "gh_session.auth = (USER, token)"
   ]
  },
  {
   "cell_type": "code",
   "execution_count": 5,
   "metadata": {},
   "outputs": [
    {
     "name": "stdout",
     "output_type": "stream",
     "text": [
      "https://api.github.com/repos/spatialucr/geosnap4ed/milestones\n"
     ]
    }
   ],
   "source": [
    "url=\"https://api.github.com/repos/spatialucr/geosnap4ed/milestones\"\n",
    "print(url)"
   ]
  },
  {
   "cell_type": "code",
   "execution_count": 11,
   "metadata": {},
   "outputs": [],
   "source": [
    "milestones = json.loads(gh_session.get(url).text)"
   ]
  },
  {
   "cell_type": "code",
   "execution_count": 12,
   "metadata": {},
   "outputs": [
    {
     "name": "stdout",
     "output_type": "stream",
     "text": [
      "https://api.github.com/repos/spatialucr/geosnap4ed/issues\n"
     ]
    }
   ],
   "source": [
    "url=\"https://api.github.com/repos/spatialucr/geosnap4ed/issues\"\n",
    "print(url)"
   ]
  },
  {
   "cell_type": "code",
   "execution_count": 13,
   "metadata": {},
   "outputs": [],
   "source": [
    "issues = json.loads(gh_session.get(url).text)"
   ]
  },
  {
   "cell_type": "code",
   "execution_count": 15,
   "metadata": {},
   "outputs": [
    {
     "data": {
      "text/plain": [
       "22"
      ]
     },
     "execution_count": 15,
     "metadata": {},
     "output_type": "execute_result"
    }
   ],
   "source": [
    "len(issues)"
   ]
  },
  {
   "cell_type": "code",
   "execution_count": 38,
   "metadata": {},
   "outputs": [],
   "source": [
    "k2m = {}\n",
    "for milestone in milestones:\n",
    "    url = milestone['url']\n",
    "    k2m[url] = url.split(\"/\")[-1]"
   ]
  },
  {
   "cell_type": "code",
   "execution_count": 39,
   "metadata": {},
   "outputs": [
    {
     "data": {
      "text/plain": [
       "{'https://api.github.com/repos/spatialucr/geosnap4ed/milestones/1': '1',\n",
       " 'https://api.github.com/repos/spatialucr/geosnap4ed/milestones/2': '2',\n",
       " 'https://api.github.com/repos/spatialucr/geosnap4ed/milestones/3': '3',\n",
       " 'https://api.github.com/repos/spatialucr/geosnap4ed/milestones/4': '4',\n",
       " 'https://api.github.com/repos/spatialucr/geosnap4ed/milestones/5': '5',\n",
       " 'https://api.github.com/repos/spatialucr/geosnap4ed/milestones/6': '6',\n",
       " 'https://api.github.com/repos/spatialucr/geosnap4ed/milestones/7': '7',\n",
       " 'https://api.github.com/repos/spatialucr/geosnap4ed/milestones/8': '8'}"
      ]
     },
     "execution_count": 39,
     "metadata": {},
     "output_type": "execute_result"
    }
   ],
   "source": [
    "k2m"
   ]
  },
  {
   "cell_type": "code",
   "execution_count": 68,
   "metadata": {},
   "outputs": [],
   "source": [
    "from collections import defaultdict\n",
    "m2i = defaultdict(list)\n",
    "for issue in issues:\n",
    "        if issue['milestone']:\n",
    "            mulr = issue['milestone']['url']\n",
    "            m2i[mulr].append(issue['title'])\n",
    "    \n",
    "    \n",
    "    #print(issue)"
   ]
  },
  {
   "cell_type": "code",
   "execution_count": 69,
   "metadata": {},
   "outputs": [
    {
     "data": {
      "text/plain": [
       "defaultdict(list,\n",
       "            {'https://api.github.com/repos/spatialucr/geosnap4ed/milestones/4': ['Community Sprint 3',\n",
       "              'Add pycnophylactic and smoothed interpolation methods.'],\n",
       "             'https://api.github.com/repos/spatialucr/geosnap4ed/milestones/3': ['Community Sprint 2',\n",
       "              'SciPy 2021 Presentation of Framework',\n",
       "              'Add mgwr prediction as interpolation method.',\n",
       "              'comparative seg inference wrapper',\n",
       "              'segregation stats for communities'],\n",
       "             'https://api.github.com/repos/spatialucr/geosnap4ed/milestones/8': ['Case Study Phase II',\n",
       "              'add tutorials to geosnap guide'],\n",
       "             'https://api.github.com/repos/spatialucr/geosnap4ed/milestones/7': ['Case Study Phase I'],\n",
       "             'https://api.github.com/repos/spatialucr/geosnap4ed/milestones/2': ['Community Sprint 1',\n",
       "              'integrate urban institute education data',\n",
       "              'integrate Reardon education data',\n",
       "              'Integration of additional data sources for dasymetric mapping.'],\n",
       "             'https://api.github.com/repos/spatialucr/geosnap4ed/milestones/1': ['explore NHGIS data integration',\n",
       "              'Kickoff presentation',\n",
       "              'Implementation of multivariate clustering methods ported from geosnap into spopt region'],\n",
       "             'https://api.github.com/repos/spatialucr/geosnap4ed/milestones/5': ['NARSC 2021 Workshop',\n",
       "              'research location allocation models for spatial targeting component'],\n",
       "             'https://api.github.com/repos/spatialucr/geosnap4ed/milestones/6': ['geosnap.Community dashboard/explorer',\n",
       "              'Implementation of location allocation models for  spatial targetting.']})"
      ]
     },
     "execution_count": 69,
     "metadata": {},
     "output_type": "execute_result"
    }
   ],
   "source": [
    "m2i"
   ]
  },
  {
   "cell_type": "code",
   "execution_count": 72,
   "metadata": {},
   "outputs": [],
   "source": [
    "keys = [f\"https://api.github.com/repos/spatialucr/geosnap4ed/milestones/{i}\" for i in range(1,9)]    "
   ]
  },
  {
   "cell_type": "code",
   "execution_count": 73,
   "metadata": {},
   "outputs": [],
   "source": [
    "md = [\"# Milestones\"]\n",
    "for i,key in enumerate(keys):\n",
    "    milestone = milestones[i]\n",
    "    due = milestone['due_on'].split(\"T\")[0]\n",
    "    m_issues = m2i[key]\n",
    "    md.append(f'## Milestone {i+1}: {due}')\n",
    "    for issue in m_issues:\n",
    "        md.append(f'- {issue}')\n",
    "    \n",
    "    "
   ]
  },
  {
   "cell_type": "code",
   "execution_count": 74,
   "metadata": {},
   "outputs": [
    {
     "data": {
      "text/plain": [
       "['# Milestones',\n",
       " '## Milestone 1: 2021-01-31',\n",
       " '- explore NHGIS data integration',\n",
       " '- Kickoff presentation',\n",
       " '- Implementation of multivariate clustering methods ported from geosnap into spopt region',\n",
       " '## Milestone 2: 2021-04-30',\n",
       " '- Community Sprint 1',\n",
       " '- integrate urban institute education data',\n",
       " '- integrate Reardon education data',\n",
       " '- Integration of additional data sources for dasymetric mapping.',\n",
       " '## Milestone 3: 2021-07-31',\n",
       " '- Community Sprint 2',\n",
       " '- SciPy 2021 Presentation of Framework',\n",
       " '- Add mgwr prediction as interpolation method.',\n",
       " '- comparative seg inference wrapper',\n",
       " '- segregation stats for communities',\n",
       " '## Milestone 4: 2021-10-31',\n",
       " '- Community Sprint 3',\n",
       " '- Add pycnophylactic and smoothed interpolation methods.',\n",
       " '## Milestone 5: 2022-01-31',\n",
       " '- NARSC 2021 Workshop',\n",
       " '- research location allocation models for spatial targeting component',\n",
       " '## Milestone 6: 2022-04-30',\n",
       " '- geosnap.Community dashboard/explorer',\n",
       " '- Implementation of location allocation models for  spatial targetting.',\n",
       " '## Milestone 7: 2022-07-31',\n",
       " '- Case Study Phase I',\n",
       " '## Milestone 8: 2022-10-31',\n",
       " '- Case Study Phase II',\n",
       " '- add tutorials to geosnap guide']"
      ]
     },
     "execution_count": 74,
     "metadata": {},
     "output_type": "execute_result"
    }
   ],
   "source": [
    "md"
   ]
  },
  {
   "cell_type": "code",
   "execution_count": 75,
   "metadata": {},
   "outputs": [],
   "source": [
    "with open('milestones.md', 'w') as ofile:\n",
    "    ofile.write(\"\\n\".join(md))"
   ]
  },
  {
   "cell_type": "code",
   "execution_count": null,
   "metadata": {},
   "outputs": [],
   "source": []
  }
 ],
 "metadata": {
  "kernelspec": {
   "display_name": "Python 3",
   "language": "python",
   "name": "python3"
  },
  "language_info": {
   "codemirror_mode": {
    "name": "ipython",
    "version": 3
   },
   "file_extension": ".py",
   "mimetype": "text/x-python",
   "name": "python",
   "nbconvert_exporter": "python",
   "pygments_lexer": "ipython3",
   "version": "3.7.6"
  }
 },
 "nbformat": 4,
 "nbformat_minor": 4
}
