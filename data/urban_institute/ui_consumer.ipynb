{
 "cells": [
  {
   "cell_type": "markdown",
   "metadata": {},
   "source": [
    "This will consume the [html from the ui api](https://educationdata.urban.org/documentation/schools.html#ccd_directory)"
   ]
  },
  {
   "cell_type": "markdown",
   "metadata": {},
   "source": [
    "[reference BeautifulSoup tutorial](https://www.dataschool.io/python-web-scraping-of-president-trumps-lies/#parsingthehtmlusingbeautifulsoup)"
   ]
  },
  {
   "cell_type": "code",
   "execution_count": 1,
   "metadata": {},
   "outputs": [],
   "source": [
    "from bs4 import BeautifulSoup"
   ]
  },
  {
   "cell_type": "code",
   "execution_count": 5,
   "metadata": {},
   "outputs": [],
   "source": [
    "import requests\n",
    "r = requests.get('https://educationdata.urban.org/documentation/schools.html')"
   ]
  },
  {
   "cell_type": "code",
   "execution_count": 7,
   "metadata": {
    "scrolled": true
   },
   "outputs": [
    {
     "data": {
      "text/plain": [
       "'<!DOCTYPE html>\\n<head>\\n\\n\\t<title></title>\\n\\t\\n\\t<meta '"
      ]
     },
     "execution_count": 7,
     "metadata": {},
     "output_type": "execute_result"
    }
   ],
   "source": [
    "r.text[0:50]"
   ]
  },
  {
   "cell_type": "code",
   "execution_count": 8,
   "metadata": {},
   "outputs": [],
   "source": [
    "soup = BeautifulSoup(r.text, 'html.parser')"
   ]
  },
  {
   "cell_type": "code",
   "execution_count": 11,
   "metadata": {},
   "outputs": [],
   "source": [
    "results = soup.find_all('body', attrs={'div id':'endpoint_content'})"
   ]
  },
  {
   "cell_type": "code",
   "execution_count": 15,
   "metadata": {},
   "outputs": [],
   "source": [
    "content = soup.find(id=\"endpoint_content\")"
   ]
  },
  {
   "cell_type": "raw",
   "metadata": {},
   "source": [
    "body<br>\n",
    "    <div id=\"endpoint_content><br>\n",
    "        <section id=\"ccd_directory\"> class=\"content_section ep_24>\n",
    "            <div class=\"right_description\">\n",
    "                <div class=\"padded_content\">\n",
    "                    <h4>CCD</h4>\n",
    "                    <h1>Directory</h1>\n",
    "                    <span class=\"data_source\">Source: CCD</span>\n",
    "                    <p>This endpoint contains...</p>\n",
    "                    <table class=\"attributeTable\">\n",
    "                        <tr>...</tr> == \n",
    "                            <td>\n",
    "                                <strong>year</strong>\n",
    "                                the 'i' icon and green 'filter is here\n",
    "                            </td>\n",
    "                         <td class=\"padded_left\">\n",
    "                             <div class=\"varLabel\">\n",
    "                                 \"Academic Year (fall semester)\"\n",
    "                                 \"Years available: 1986-2018\"\n",
    "                             </div>\n",
    "                             <div class=\"valSet\">\n",
    "                                 <span clas=valNum>-1</span>\n",
    "                                 <span class=\"valText\">Missing/not reported\n",
    "                             </div>\n",
    "                             <div class=\"valSet\">\n",
    "                                 <span clas=\"valNum\">-2</span>\n",
    "                                 <span class=\"valText\">Not applicable</span>\n",
    "                              </div>\n",
    "                              \n",
    "                              etc."
   ]
  },
  {
   "cell_type": "code",
   "execution_count": 17,
   "metadata": {},
   "outputs": [
    {
     "data": {
      "text/plain": [
       "<!DOCTYPE html>\n",
       "\n",
       "<head>\n",
       "<title></title>\n",
       "<meta content=\"width=device-width,initial-scale=1.0\" name=\"viewport\"/>\n",
       "<link href=\"https://fonts.googleapis.com/css?family=Lato:300,400,700,900\" rel=\"stylesheet\"/>\n",
       "<link href=\"https://fonts.googleapis.com/css?family=Source+Code+Pro\" rel=\"stylesheet\"/>\n",
       "<link href=\"favicon.ico\" rel=\"shortcut icon\" type=\"image/x-icon\"/>\n",
       "<link href=\"highlight/styles/default.css\" rel=\"stylesheet\"/>\n",
       "<link href=\"fancybox/jquery.fancybox.min.css\" rel=\"stylesheet\" type=\"text/css\"/>\n",
       "<link href=\"css/style.css\" rel=\"stylesheet\" type=\"text/css\"/>\n",
       "</head>\n",
       "<body>\n",
       "<div id=\"detail_description\" style=\"display:none\">\n",
       "<h2>Var Name</h2>\n",
       "            Detailed description \n",
       "      </div>\n",
       "<ul id=\"topLevelMenu\">\n",
       "<li><a href=\"index.html\">Overview</a></li>\n",
       "<li>Topics:</li>\n",
       "<li><a class=\"active\" href=\"schools.html\">Schools</a></li>\n",
       "<li><a href=\"school-districts.html\">School Districts</a></li>\n",
       "<li><a href=\"colleges.html\">Colleges</a></li>\n",
       "</ul>\n",
       "<nav>\n",
       "<img class=\"logo\" src=\"img/logo_3.png\"/>\n",
       "<div class=\"site_title\">Education Data Portal</div>\n",
       "<div class=\"site_subtitle\"><a href=\"https://educationdata.urban.org/data-explorer/\" target=\"_blank\">DATA EXPLORER<i aria-hidden=\"true\" class=\"fa fa-external-link\"></i></a></div>\n",
       "<div class=\"close_menu\">\n",
       "<i aria-hidden=\"true\" class=\"fa fa-times\"></i>\n",
       "</div>\n",
       "<div class=\"burger\">\n",
       "\t\t\tSchools <i aria-hidden=\"true\" class=\"fa fa-bars\"></i>\n",
       "</div>\n",
       "</nav>\n",
       "<div class=\"mobile_index\">\n",
       "<i aria-hidden=\"true\" class=\"fa fa-angle-down\"></i>\n",
       "<span class=\"section_name\">\n",
       "\t\t\tLevel 1 - <b>Level 2</b>\n",
       "</span>\n",
       "</div>\n",
       "<section class=\"left_index\">\n",
       "<div class=\"fixed_index_holder\">\n",
       "<ul>\n",
       "<li class=\"active\" id=\"link_overview\"><a data-content=\"&lt;b&gt;Overview&lt;/b&gt;\" href=\"#overview\">Overview</a></li>\n",
       "</ul>\n",
       "</div>\n",
       "</section><!-- EOF left_index -->\n",
       "<div class=\"spacer\"></div>\n",
       "<div class=\"right_background\">\n",
       "</div><!-- EOF right_background -->\n",
       "<div class=\"mobile_code_selector\">\n",
       "<i aria-hidden=\"true\" class=\"fa fa-angle-down\"></i>\n",
       "<span class=\"section_name\">\n",
       "<b><span class=\"language_name\">R</span></b>\n",
       "</span>\n",
       "</div><!-- EOF mobile_code_selector -->\n",
       "<div class=\"right_code_selector\">\n",
       "<ul>\n",
       "<li class=\"active\" data-content=\"Stata\">Stata</li>\n",
       "<li data-content=\"R\">R</li>\n",
       "<li data-content=\"Python\">Python</li>\n",
       "<li data-content=\"Javascript\">Javascript</li>\n",
       "<li data-content=\"Downloads\"><i class=\"fa fa-download\"></i> Downloads</li>\n",
       "</ul>\n",
       "</div>\n",
       "<!-- Overview -->\n",
       "<section class=\"content_section\" id=\"overview\">\n",
       "<div class=\"right_description\">\n",
       "<a id=\"overview\"></a>\n",
       "<div class=\"padded_content\">\n",
       "<h1>Schools</h1>\n",
       "<p>This school-level database contains data from the following sources: the National Center for Education Statistics’ Common Core of Data (CCD), the Civil Rights Data Collection (CRDC), the US Department of Education’s EDFacts, and IPUMS' National Historical Geographic Information System (NHGIS). Although the CCD includes information on schools over a long period, the topics covered are more limited than in the CRDC. Data elements in the CCD include basic information about the school (e.g., location, grade offerings, and charter status) and student enrollment demographics. The CRDC contains three years of data on every public school on such topics as student discipline, retention, course enrollment, chronic absenteeism, and SAT or ACT test-taking. EdFacts provides assessment data broken down by various subgroups. NHGIS provides census geographies such as tract and block group for each school.\n",
       "</p>\n",
       "<br/>\n",
       "<h3> Data sources:</h3>\n",
       "<ul id=\"sourceList\">\n",
       "</ul>\n",
       "</div>\n",
       "</div>\n",
       "</section>\n",
       "<div id=\"endpoint_content\">\n",
       "</div>\n",
       "<div id=\"example_response\" style=\"display:none\">\n",
       "<div class=\"code_area\">\n",
       "<pre>\n",
       "\t\t\t<code class=\"html python\">\n",
       "\t\t\t</code>\n",
       "\t\t</pre>\n",
       "</div>\n",
       "</div>\n",
       "<script crossorigin=\"anonymous\" integrity=\"sha256-hwg4gsxgFZhOsEEamdOYGBf13FyQuiTwlAQgxVSNgt4=\" src=\"https://code.jquery.com/jquery-3.2.1.min.js\"></script>\n",
       "<script src=\"highlight/highlight.pack.js\"></script>\n",
       "<script src=\"https://use.fontawesome.com/0047543ab6.js\"></script>\n",
       "<script src=\"fancybox/jquery.fancybox.min.js\"></script>\n",
       "<script src=\"js/lib/d3.v4.min.js\"></script>\n",
       "<script>\n",
       "\t\tvar page_id = \"2\"\n",
       "\t</script>\n",
       "<script src=\"js/script.js\"></script>\n",
       "</body>"
      ]
     },
     "execution_count": 17,
     "metadata": {},
     "output_type": "execute_result"
    }
   ],
   "source": [
    "soup"
   ]
  },
  {
   "cell_type": "code",
   "execution_count": 18,
   "metadata": {},
   "outputs": [
    {
     "data": {
      "text/plain": [
       "0"
      ]
     },
     "execution_count": 18,
     "metadata": {},
     "output_type": "execute_result"
    }
   ],
   "source": [
    "len(results)"
   ]
  },
  {
   "cell_type": "code",
   "execution_count": 3,
   "metadata": {},
   "outputs": [],
   "source": [
    "import pandas as pd"
   ]
  },
  {
   "cell_type": "code",
   "execution_count": null,
   "metadata": {},
   "outputs": [],
   "source": []
  }
 ],
 "metadata": {
  "kernelspec": {
   "display_name": "Python 3",
   "language": "python",
   "name": "python3"
  },
  "language_info": {
   "codemirror_mode": {
    "name": "ipython",
    "version": 3
   },
   "file_extension": ".py",
   "mimetype": "text/x-python",
   "name": "python",
   "nbconvert_exporter": "python",
   "pygments_lexer": "ipython3",
   "version": "3.7.6"
  }
 },
 "nbformat": 4,
 "nbformat_minor": 4
}
